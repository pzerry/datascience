{
 "cells": [
  {
   "cell_type": "markdown",
   "id": "ff7c32ce-6d28-442c-aaa8-2244d9a1b4d5",
   "metadata": {},
   "source": [
    "# Q1. Which keyword is used to create a function? Create a function to return a list of odd numbers in the range of 1 to 25."
   ]
  },
  {
   "cell_type": "markdown",
   "id": "88a7fd3b-d0b9-433c-8187-ce7d3262307e",
   "metadata": {},
   "source": [
    "<span style='color:red'><b>def</b> </span><span style='color:yellow'>keyword is uesd to create a function.</span>\n"
   ]
  },
  {
   "cell_type": "code",
   "execution_count": 1,
   "id": "12470390-4cea-495c-96f4-7acd5ef9950b",
   "metadata": {},
   "outputs": [
    {
     "data": {
      "text/plain": [
       "[1, 3, 5, 7, 9, 11, 13, 15, 17, 19, 21, 23, 25]"
      ]
     },
     "execution_count": 1,
     "metadata": {},
     "output_type": "execute_result"
    }
   ],
   "source": [
    "def odd(li):\n",
    "    return [int(x) for x in li if x%2!=0]\n",
    "\n",
    "odd(range(1,26))"
   ]
  },
  {
   "cell_type": "markdown",
   "id": "a1f6cab0-f7f1-423c-8527-bd0c2cea3596",
   "metadata": {},
   "source": [
    "# Q2. Why *args and **kwargs is used in some functions? Create a function each for *args and **kwargs to demonstrate their use."
   ]
  },
  {
   "cell_type": "markdown",
   "id": "46b2bdfa-d31b-4122-b2ea-b7fedc1b5a16",
   "metadata": {},
   "source": [
    "#### <span style='color:orange'> When number of arguments is not fixed in function we opt for *args and**kwargs. Where **kwargs (keyword) represent key=value argument </span>"
   ]
  },
  {
   "cell_type": "code",
   "execution_count": 2,
   "id": "d17f4b98-9dbd-407b-87bb-9883d2a648a9",
   "metadata": {},
   "outputs": [
    {
     "name": "stdout",
     "output_type": "stream",
     "text": [
      "('vanilla',)\n",
      "('vanilla', 'choclate', 'blueberry')\n"
     ]
    }
   ],
   "source": [
    "def fun1(*ice_flavor):\n",
    "    print(ice_flavor)\n",
    "\n",
    "fun1('vanilla')\n",
    "fun1('vanilla','choclate','blueberry')"
   ]
  },
  {
   "cell_type": "code",
   "execution_count": 3,
   "id": "4407a302-d26b-431d-bd89-214070285c26",
   "metadata": {},
   "outputs": [
    {
     "name": "stdout",
     "output_type": "stream",
     "text": [
      "age of youngest child: 19\n"
     ]
    }
   ],
   "source": [
    "def fun2(**age):\n",
    "    print('age of youngest child:',age[\"youngest\"])\n",
    "    \n",
    "fun2(elder=28,second_elder=25,third=22,youngest=19)\n",
    "    "
   ]
  },
  {
   "cell_type": "markdown",
   "id": "ed446513-8880-4d6f-bee8-d71e8fa361f3",
   "metadata": {},
   "source": [
    "# Q3. What is an iterator in python? Name the method used to initialise the iterator object and the method used for iteration. Use these methods to print the first five elements of the given list [2, 4, 6, 8, 10, 12, 14,16, 18, 20]."
   ]
  },
  {
   "cell_type": "markdown",
   "id": "e8a62b90-dd51-475a-800b-c0b58c775d9b",
   "metadata": {},
   "source": [
    "### An iterator is an object which iterate over iterable object. <span style = 'color:orange'><b> __iter()__ </b></span> method is used to initialize iterator object and <span style = 'color:orange'><b> __next()__ </b></span> method is used for iteration"
   ]
  },
  {
   "cell_type": "code",
   "execution_count": 4,
   "id": "c9a033c8-f7d7-483b-baf4-7a8fd7744644",
   "metadata": {},
   "outputs": [
    {
     "name": "stdout",
     "output_type": "stream",
     "text": [
      "2\n",
      "4\n",
      "6\n",
      "8\n",
      "10\n"
     ]
    }
   ],
   "source": [
    "l = [2, 4, 6, 8, 10, 12, 14,16, 18, 20]\n",
    "l1 =iter(l)\n",
    "print(next(l1))\n",
    "print(next(l1))\n",
    "print(next(l1))\n",
    "print(next(l1))\n",
    "print(next(l1))"
   ]
  },
  {
   "cell_type": "markdown",
   "id": "843864b8-46d4-498b-adfa-a1e467285a97",
   "metadata": {},
   "source": [
    "# Q4. What is a generator function in python? Why yield keyword is used? Give an example of a generator function."
   ]
  },
  {
   "cell_type": "markdown",
   "id": "b8e7e8f5-7caa-416f-bd1a-38c1e15da7e0",
   "metadata": {},
   "source": [
    "Generator function is basically a iterator only and it is used when we want less memory comsumption where its object generated which generate elements one by one\n",
    "through Yield keyword fun will be identified as generator and to create object of generator"
   ]
  },
  {
   "cell_type": "code",
   "execution_count": 5,
   "id": "e8f8879d-0f9a-430e-b945-f52101417192",
   "metadata": {},
   "outputs": [
    {
     "name": "stdout",
     "output_type": "stream",
     "text": [
      "1\n",
      "a\n",
      "6.36\n"
     ]
    }
   ],
   "source": [
    "def fun():\n",
    "    yield 1\n",
    "    yield 'a'\n",
    "    yield 6.36\n",
    "    \n",
    "x = fun()\n",
    "\n",
    "print(next(x))\n",
    "print(next(x))\n",
    "print(next(x))"
   ]
  },
  {
   "cell_type": "markdown",
   "id": "26d7b64a-bbc4-40d0-8c5e-222ac13c4fa8",
   "metadata": {},
   "source": [
    "# Q5. Create a generator function for prime numbers less than 1000. Use the next() method to print the first 20 prime numbers."
   ]
  },
  {
   "cell_type": "code",
   "execution_count": 6,
   "id": "6bca137d-9e12-4b86-9cf5-2e1f3938e7e4",
   "metadata": {
    "tags": []
   },
   "outputs": [
    {
     "name": "stdout",
     "output_type": "stream",
     "text": [
      "2\n",
      "3\n",
      "5\n",
      "7\n",
      "11\n",
      "13\n",
      "17\n",
      "19\n",
      "23\n",
      "29\n",
      "31\n",
      "37\n",
      "41\n",
      "43\n",
      "47\n",
      "53\n",
      "59\n",
      "61\n",
      "67\n",
      "71\n"
     ]
    }
   ],
   "source": [
    "def fun():\n",
    "    for x in range(2,1001):\n",
    "        for i in range(2,x):\n",
    "            if (x%i)==0:               \n",
    "                break;\n",
    "        else:\n",
    "            yield x              \n",
    "s = fun()\n",
    "\n",
    "for i in range(20):\n",
    "    print(next(s))\n",
    "    "
   ]
  },
  {
   "cell_type": "markdown",
   "id": "6b6b5ae3-4956-4cff-bc1f-404431604ac5",
   "metadata": {},
   "source": [
    "# Q6. Write a python program to print the first 10 Fibonacci numbers using a while loop."
   ]
  },
  {
   "cell_type": "code",
   "execution_count": 7,
   "id": "85f64524-df3b-415c-a571-e89d0157853d",
   "metadata": {},
   "outputs": [
    {
     "name": "stdout",
     "output_type": "stream",
     "text": [
      "0\n",
      "1\n",
      "1\n",
      "2\n",
      "3\n",
      "5\n",
      "8\n",
      "13\n",
      "21\n",
      "34\n"
     ]
    }
   ],
   "source": [
    "f0 = 0\n",
    "f1 = 1\n",
    "count = 0\n",
    "while count<10:\n",
    "    print(f0)\n",
    "    fn = f0+f1 \n",
    "    f0 = f1\n",
    "    f1 = fn\n",
    "    count += 1\n",
    " "
   ]
  },
  {
   "cell_type": "markdown",
   "id": "d3698711-514c-42a2-a71d-a2bcabd293d3",
   "metadata": {},
   "source": [
    "# Q7. Write a List Comprehension to iterate through the given string: ‘pwskills’.Expected output: ['p', 'w', 's', 'k', 'i', 'l', 'l', 's']"
   ]
  },
  {
   "cell_type": "code",
   "execution_count": 8,
   "id": "fd7a70fd-1a4f-4293-85eb-c0c6a3b918a3",
   "metadata": {},
   "outputs": [
    {
     "data": {
      "text/plain": [
       "['p', 'w', 's', 'k', 'i', 'l', 'l', 's']"
      ]
     },
     "execution_count": 8,
     "metadata": {},
     "output_type": "execute_result"
    }
   ],
   "source": [
    "s = 'pwskills'\n",
    "x = [i for i in s]\n",
    "x"
   ]
  },
  {
   "cell_type": "markdown",
   "id": "0eacb765-5aac-4b56-be1e-3d886c10c34a",
   "metadata": {},
   "source": [
    "# Q8. Write a python program to check whether a given number is Palindrome or not using a while loop."
   ]
  },
  {
   "cell_type": "code",
   "execution_count": 17,
   "id": "eee1585f-9d17-4570-a0e0-0b42264207f4",
   "metadata": {},
   "outputs": [
    {
     "name": "stdin",
     "output_type": "stream",
     "text": [
      "ENter number:  123561\n"
     ]
    },
    {
     "name": "stdout",
     "output_type": "stream",
     "text": [
      "123561  is not palindrome number\n"
     ]
    }
   ],
   "source": [
    "n = int(input(\"ENter number: \"))\n",
    "t = n\n",
    "rev = 0\n",
    "\n",
    "while (n>0):\n",
    "    x = n%10\n",
    "    rev = rev*10 + x\n",
    "    n = n//10\n",
    "\n",
    "if(t==rev):\n",
    "    print(t,\" is Palindrome number\")\n",
    "else:\n",
    "    print(t,\" is not palindrome number\")"
   ]
  },
  {
   "cell_type": "markdown",
   "id": "a99293c1-10db-4fc8-b475-7ab8079e31f6",
   "metadata": {},
   "source": [
    "# Q9. Write a code to print odd numbers from 1 to 100 using list comprehension."
   ]
  },
  {
   "cell_type": "code",
   "execution_count": 1,
   "id": "a45e535a-21dd-4b48-9d49-676b484660e5",
   "metadata": {
    "collapsed": true,
    "jupyter": {
     "outputs_hidden": true
    },
    "tags": []
   },
   "outputs": [
    {
     "data": {
      "text/plain": [
       "[1,\n",
       " 3,\n",
       " 5,\n",
       " 7,\n",
       " 9,\n",
       " 11,\n",
       " 13,\n",
       " 15,\n",
       " 17,\n",
       " 19,\n",
       " 21,\n",
       " 23,\n",
       " 25,\n",
       " 27,\n",
       " 29,\n",
       " 31,\n",
       " 33,\n",
       " 35,\n",
       " 37,\n",
       " 39,\n",
       " 41,\n",
       " 43,\n",
       " 45,\n",
       " 47,\n",
       " 49,\n",
       " 51,\n",
       " 53,\n",
       " 55,\n",
       " 57,\n",
       " 59,\n",
       " 61,\n",
       " 63,\n",
       " 65,\n",
       " 67,\n",
       " 69,\n",
       " 71,\n",
       " 73,\n",
       " 75,\n",
       " 77,\n",
       " 79,\n",
       " 81,\n",
       " 83,\n",
       " 85,\n",
       " 87,\n",
       " 89,\n",
       " 91,\n",
       " 93,\n",
       " 95,\n",
       " 97,\n",
       " 99]"
      ]
     },
     "execution_count": 1,
     "metadata": {},
     "output_type": "execute_result"
    }
   ],
   "source": [
    "l = [x for x in range(1,101)]\n",
    "l1=[x for x in l if x%2!=0]\n",
    "l1"
   ]
  },
  {
   "cell_type": "code",
   "execution_count": null,
   "id": "2a5b83df-3241-4507-ad32-82dde7e7e86a",
   "metadata": {},
   "outputs": [],
   "source": []
  }
 ],
 "metadata": {
  "kernelspec": {
   "display_name": "Python 3 (ipykernel)",
   "language": "python",
   "name": "python3"
  },
  "language_info": {
   "codemirror_mode": {
    "name": "ipython",
    "version": 3
   },
   "file_extension": ".py",
   "mimetype": "text/x-python",
   "name": "python",
   "nbconvert_exporter": "python",
   "pygments_lexer": "ipython3",
   "version": "3.10.8"
  }
 },
 "nbformat": 4,
 "nbformat_minor": 5
}
