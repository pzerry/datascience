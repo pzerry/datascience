{
 "cells": [
  {
   "cell_type": "markdown",
   "id": "f9ffce10-0ce6-46fa-a2a0-2e44cfeac547",
   "metadata": {},
   "source": [
    "# Q1. Create a python program to sort the given list of tuples based on integer value using alambda function.\n",
    "#### [('Sachin Tendulkar', 34357), ('Ricky Ponting', 27483), ('Jack Kallis', 25534), ('Virat Kohli', 24936)]"
   ]
  },
  {
   "cell_type": "code",
   "execution_count": 43,
   "id": "6029e3cb-4789-4516-9c42-39c702506612",
   "metadata": {},
   "outputs": [
    {
     "data": {
      "text/plain": [
       "[('Virat Kohli', 24936),\n",
       " ('Jack Kallis', 25534),\n",
       " ('Ricky Ponting', 27483),\n",
       " ('Sachin Tendulkar', 34357)]"
      ]
     },
     "execution_count": 43,
     "metadata": {},
     "output_type": "execute_result"
    }
   ],
   "source": [
    "l = [('Sachin Tendulkar', 34357), ('Ricky Ponting', 27483), ('Jack Kallis', 25534), ('Virat Kohli', 24936)]\n",
    "l.sort(key=lambda x:x[1])\n",
    "#x = sorted(l,key=lambda x:x[1])\n"
   ]
  },
  {
   "cell_type": "markdown",
   "id": "4375448b-41c7-48da-912c-94ee565b5eed",
   "metadata": {},
   "source": [
    "# Q2. Write a Python Program to find the squares of all the numbers in the given list of integers using lambda and map functions.\n",
    "### [1, 2, 3, 4, 5, 6, 7, 8, 9, 10]"
   ]
  },
  {
   "cell_type": "code",
   "execution_count": 8,
   "id": "3d47e69d-cba2-4b60-839f-277e9477b208",
   "metadata": {},
   "outputs": [
    {
     "data": {
      "text/plain": [
       "[1, 4, 9, 16, 25, 36, 49, 64, 81, 100]"
      ]
     },
     "execution_count": 8,
     "metadata": {},
     "output_type": "execute_result"
    }
   ],
   "source": [
    "l = [1,2,3,4,5,6,7,8,9,10]\n",
    "x = list(map(lambda a:a**2,l))\n",
    "x"
   ]
  },
  {
   "cell_type": "markdown",
   "id": "68f0498f-c230-4e02-8548-09ee16bc930a",
   "metadata": {},
   "source": [
    "# Q3. Write a python program to convert the given list of integers into a tuple of strings. Use map and lambda functions\n",
    "### Given String: [1, 2, 3, 4, 5, 6, 7, 8, 9, 10]\n",
    "### Expected output: ('1', '2', '3', '4', '5', '6', '7', '8', '9', '10')"
   ]
  },
  {
   "cell_type": "code",
   "execution_count": 14,
   "id": "7f503fc4-688f-496d-a9f7-1f5e32d13b2d",
   "metadata": {},
   "outputs": [
    {
     "data": {
      "text/plain": [
       "('1', '2', '3', '4', '5', '6', '7', '8', '9', '10')"
      ]
     },
     "execution_count": 14,
     "metadata": {},
     "output_type": "execute_result"
    }
   ],
   "source": [
    "s=[1, 2, 3, 4, 5, 6, 7, 8, 9, 10]\n",
    "x=tuple(map(lambda a:str(a),s))\n",
    "x\n"
   ]
  },
  {
   "cell_type": "markdown",
   "id": "2795ca1d-bd20-4b69-9807-a33cb3d2e981",
   "metadata": {},
   "source": [
    "# Q4. Write a python program using reduce function to compute the product of a list containing numbers from 1 to 25."
   ]
  },
  {
   "cell_type": "code",
   "execution_count": 15,
   "id": "7840d65a-6263-4ac3-ae22-f548c875b39b",
   "metadata": {},
   "outputs": [
    {
     "data": {
      "text/plain": [
       "15511210043330985984000000"
      ]
     },
     "execution_count": 15,
     "metadata": {},
     "output_type": "execute_result"
    }
   ],
   "source": [
    "from functools import reduce\n",
    "reduce(lambda a,b:a*b,[x for x in range(1,26)])"
   ]
  },
  {
   "cell_type": "markdown",
   "id": "e6083485-f460-4df4-a5ac-e9fa74db224c",
   "metadata": {},
   "source": [
    "# Q5. Write a python program to filter the numbers in a given list that are divisible by 2 and 3 using the filter function.\n",
    "### [2, 3, 6, 9, 27, 60, 90, 120, 55, 46]"
   ]
  },
  {
   "cell_type": "code",
   "execution_count": 34,
   "id": "54c28323-4432-4eb6-85b2-9ecc5855f78d",
   "metadata": {},
   "outputs": [
    {
     "data": {
      "text/plain": [
       "[6, 60, 90, 120]"
      ]
     },
     "execution_count": 34,
     "metadata": {},
     "output_type": "execute_result"
    }
   ],
   "source": [
    "l =[2, 3, 6, 9, 27, 60, 90, 120, 55, 46]\n",
    "def fun(l):\n",
    "        x= l%2\n",
    "        b=l%3\n",
    "        if x==b==0:\n",
    "            return l\n",
    "        \n",
    "l1 = list(filter(lambda a: fun(a),l))\n",
    "l1"
   ]
  },
  {
   "cell_type": "markdown",
   "id": "8ac95a04-10fa-465f-9c2d-39c37b19bad3",
   "metadata": {},
   "source": [
    "# Q6. Write a python program to find palindromes in the given list of strings using lambda and filter function.\n",
    "['python', 'php', 'aba', 'radar', 'level']"
   ]
  },
  {
   "cell_type": "code",
   "execution_count": 38,
   "id": "96d98cd6-aecc-46a3-a382-15e324cdd081",
   "metadata": {},
   "outputs": [
    {
     "data": {
      "text/plain": [
       "['php', 'aba', 'radar', 'level']"
      ]
     },
     "execution_count": 38,
     "metadata": {},
     "output_type": "execute_result"
    }
   ],
   "source": [
    "l =['python', 'php', 'aba', 'radar', 'level']\n",
    "def palin(a):\n",
    "    s=a[::-1]\n",
    "    if s==a:\n",
    "        return a\n",
    "\n",
    "x = list(filter(lambda a:palin(a),l))\n",
    "x   "
   ]
  },
  {
   "cell_type": "code",
   "execution_count": null,
   "id": "6c7b3827-1553-411d-9ae2-7de71ae62c43",
   "metadata": {},
   "outputs": [],
   "source": []
  }
 ],
 "metadata": {
  "kernelspec": {
   "display_name": "Python 3 (ipykernel)",
   "language": "python",
   "name": "python3"
  },
  "language_info": {
   "codemirror_mode": {
    "name": "ipython",
    "version": 3
   },
   "file_extension": ".py",
   "mimetype": "text/x-python",
   "name": "python",
   "nbconvert_exporter": "python",
   "pygments_lexer": "ipython3",
   "version": "3.10.8"
  }
 },
 "nbformat": 4,
 "nbformat_minor": 5
}
