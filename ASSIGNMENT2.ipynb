{
 "cells": [
  {
   "cell_type": "markdown",
   "id": "2fed96a4-eaca-4c98-b509-c142c970d0f1",
   "metadata": {},
   "source": [
    "# Q1. How do you comment code in Python? What are the different types of comments?"
   ]
  },
  {
   "cell_type": "code",
   "execution_count": null,
   "id": "85e98b58-3b42-467d-b144-98360d0f6c1e",
   "metadata": {},
   "outputs": [],
   "source": [
    "a = int(input(\"Enter age:\" ))  # User enter their age\n",
    "\n",
    "if a> 18:                      #condition to check voter's age\n",
    "    \n",
    "    print(\"Eligible for vote\")\n",
    "\n",
    "else:\n",
    "\n",
    "    print(\"Not eligible\")\n",
    "              \n",
    "\n",
    "'''\n",
    "    TYPES OF COMMENTS:\n",
    "    \n",
    "    Single line comment done by using (#)\n",
    "    Multiline Comments\n",
    "    Multiline or Single docstring (''' ''')\n",
    " \n",
    "'''"
   ]
  },
  {
   "cell_type": "markdown",
   "id": "20c0a12d-15da-4501-ba5b-fb9b2e1259ca",
   "metadata": {},
   "source": [
    "# Q2. What are variables in Python? How do you declare and assign values to variables?"
   ]
  },
  {
   "cell_type": "raw",
   "id": "e33d6daa-7b3a-4699-a51e-4e1000f35c03",
   "metadata": {},
   "source": [
    " Variable is a kind of storage or container to store int, string, list, float etc. kind of data values\n",
    " \n",
    "int = 5\n",
    "float = 9.65\n",
    "string = \"Data Science\"\n",
    "list = [1,8.65,'skills']\n"
   ]
  },
  {
   "cell_type": "markdown",
   "id": "2a33e2b2-bb8b-4c82-85a5-f9c4deb91dae",
   "metadata": {},
   "source": [
    "# Q3. How do you convert one data type to another in Python?"
   ]
  },
  {
   "cell_type": "code",
   "execution_count": 4,
   "id": "ab2c86dc-20c3-4fba-8a82-9dea3ad95529",
   "metadata": {},
   "outputs": [
    {
     "name": "stdout",
     "output_type": "stream",
     "text": [
      "<zip object at 0x7f460547f200>\n",
      "{'a': 1, 'b': 2, 'c': 3, 'd': 4}\n"
     ]
    }
   ],
   "source": [
    "l1=[1,2,3,4]\n",
    "l2=['a','b','c','d']\n",
    "d1=zip(l2,l1)  #zip object\n",
    "\n",
    "print (dict(d1))"
   ]
  },
  {
   "cell_type": "markdown",
   "id": "d01ca91b-ebef-4513-9afb-7faa6b72984e",
   "metadata": {},
   "source": [
    "# Q4. How do you write and execute a Python script from the command line?"
   ]
  },
  {
   "cell_type": "markdown",
   "id": "1c69e6e6-01fa-47cf-bee1-12cc433476ef",
   "metadata": {},
   "source": [
    "Open a command line and type the word python followed by the path to script file like this:\n",
    "\n",
    "##### <span style='color:blue'>  python script1.py </span>\n",
    " <span style='color:green'> <i>   Hello World! </i> </span>\n",
    "\n",
    "and hit the ENTER button from the keyboard"
   ]
  },
  {
   "cell_type": "markdown",
   "id": "0b3f2170-17cd-4058-874d-480562918fa9",
   "metadata": {},
   "source": [
    "# Q5. Given a list my_list = [1, 2, 3, 4, 5], write the code to slice the list and obtain the sub-list [2, 3]."
   ]
  },
  {
   "cell_type": "code",
   "execution_count": 1,
   "id": "b460145a-11c9-41a3-be0e-04bf3b5c9b45",
   "metadata": {},
   "outputs": [
    {
     "data": {
      "text/plain": [
       "[2, 3]"
      ]
     },
     "execution_count": 1,
     "metadata": {},
     "output_type": "execute_result"
    }
   ],
   "source": [
    "l = [1,2,3,4,5]\n",
    "sub = l[1:3]\n",
    "sub"
   ]
  },
  {
   "cell_type": "markdown",
   "id": "ce0af1aa-3b00-4311-87fa-30c76c618353",
   "metadata": {},
   "source": [
    "# Q6. What is a complex number in mathematics, and how is it represented in Python?"
   ]
  },
  {
   "cell_type": "code",
   "execution_count": 9,
   "id": "1aeb22cf-03d9-4791-93d3-804b3a324bc5",
   "metadata": {},
   "outputs": [
    {
     "name": "stdout",
     "output_type": "stream",
     "text": [
      "<class 'complex'>\n",
      "(1.5+0j)\n",
      "(32+0j)\n"
     ]
    }
   ],
   "source": [
    "# complex number are expressed in the form of a+ib where, a,b are real numbers and 'i' is an imaginary number \n",
    "\n",
    "# IN PYTHON WE REPRESENT COMPLEX NUMBER VIA J\n",
    "a = 1+2j\n",
    "print(type(a))\n",
    "\n",
    "# We can type cast int float into complex\n",
    "z = 1.5\n",
    "v=32\n",
    "print(complex(z))\n",
    "print(complex(v))\n",
    "\n",
    "#b =3+4h    # gives error as instead of j we have used h\n",
    "#type(b)\n"
   ]
  },
  {
   "cell_type": "markdown",
   "id": "6aff91d5-d847-4252-a4db-e58656cb3ecf",
   "metadata": {},
   "source": [
    "# Q7. What is the correct way to declare a variable named age and assign the value 25 to it?"
   ]
  },
  {
   "cell_type": "code",
   "execution_count": 10,
   "id": "58eba691-ee38-4da1-9d6d-00623c2c5058",
   "metadata": {},
   "outputs": [
    {
     "data": {
      "text/plain": [
       "25"
      ]
     },
     "execution_count": 10,
     "metadata": {},
     "output_type": "execute_result"
    }
   ],
   "source": [
    "age = 25\n",
    "age"
   ]
  },
  {
   "cell_type": "markdown",
   "id": "92161e8e-f214-4c49-a5a3-467c45dcf41d",
   "metadata": {},
   "source": [
    "# Q8. Declare a variable named price and assign the value 9.99 to it. What data type does this variable belong to?"
   ]
  },
  {
   "cell_type": "code",
   "execution_count": 11,
   "id": "e0d7b65c-31ed-4254-8956-590dfbaf0a2f",
   "metadata": {},
   "outputs": [
    {
     "data": {
      "text/plain": [
       "float"
      ]
     },
     "execution_count": 11,
     "metadata": {},
     "output_type": "execute_result"
    }
   ],
   "source": [
    "price = 9.99\n",
    "type(price)"
   ]
  },
  {
   "cell_type": "markdown",
   "id": "e84427f8-b4d4-43d9-85c5-e4b94ef086bb",
   "metadata": {},
   "source": [
    "# Q9. Create a variable named name and assign your full name to it as a string. How would you print the value of this variable?"
   ]
  },
  {
   "cell_type": "code",
   "execution_count": 13,
   "id": "dc1f027a-9240-43a7-971a-db68445f6998",
   "metadata": {},
   "outputs": [
    {
     "name": "stdout",
     "output_type": "stream",
     "text": [
      "Pooja Sharma\n"
     ]
    },
    {
     "data": {
      "text/plain": [
       "str"
      ]
     },
     "execution_count": 13,
     "metadata": {},
     "output_type": "execute_result"
    }
   ],
   "source": [
    "name = \"Pooja Sharma\"\n",
    "print(name)\n",
    "type(name)\n"
   ]
  },
  {
   "cell_type": "markdown",
   "id": "598e02f4-3dc4-4306-ab3a-5d1f24a71301",
   "metadata": {},
   "source": [
    "# Q10. Given the string \"Hello, World!\", extract the substring \"World\"."
   ]
  },
  {
   "cell_type": "code",
   "execution_count": 17,
   "id": "d3f1d44e-5c32-4487-9db5-fd2546230b70",
   "metadata": {},
   "outputs": [
    {
     "name": "stdout",
     "output_type": "stream",
     "text": [
      "World\n"
     ]
    }
   ],
   "source": [
    "h =\"Hello, World!\"\n",
    "print(h[-6:-1])"
   ]
  },
  {
   "cell_type": "markdown",
   "id": "7a5e88f8-580f-4f19-b5c0-05f978f8b650",
   "metadata": {},
   "source": [
    "# Q11. Create a variable named \"is_student\" and assign it a boolean value indicating whether you are currently a student or not."
   ]
  },
  {
   "cell_type": "code",
   "execution_count": 18,
   "id": "6a18bec6-e6ec-4c73-9336-060bcf701145",
   "metadata": {},
   "outputs": [
    {
     "name": "stdout",
     "output_type": "stream",
     "text": [
      "Currently student status:  0\n"
     ]
    }
   ],
   "source": [
    "is_student = 0\n",
    "print(\"Currently student status: \", is_student) "
   ]
  }
 ],
 "metadata": {
  "kernelspec": {
   "display_name": "Python 3 (ipykernel)",
   "language": "python",
   "name": "python3"
  },
  "language_info": {
   "codemirror_mode": {
    "name": "ipython",
    "version": 3
   },
   "file_extension": ".py",
   "mimetype": "text/x-python",
   "name": "python",
   "nbconvert_exporter": "python",
   "pygments_lexer": "ipython3",
   "version": "3.10.8"
  }
 },
 "nbformat": 4,
 "nbformat_minor": 5
}
