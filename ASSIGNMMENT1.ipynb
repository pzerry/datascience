{
 "cells": [
  {
   "cell_type": "markdown",
   "id": "74a99147-2a09-40d3-9093-7dd1ebed9709",
   "metadata": {},
   "source": [
    "# Q1. Create one variable containing following type of data:"
   ]
  },
  {
   "cell_type": "code",
   "execution_count": 6,
   "id": "9801f73b-3d33-4648-a0d1-af6421459200",
   "metadata": {},
   "outputs": [
    {
     "name": "stdout",
     "output_type": "stream",
     "text": [
      "Data Science\n",
      "['DS', 1, 5.36, (1+3j)]\n",
      "21.69\n"
     ]
    },
    {
     "data": {
      "text/plain": [
       "('Pooja', 21, 1999)"
      ]
     },
     "execution_count": 6,
     "metadata": {},
     "output_type": "execute_result"
    }
   ],
   "source": [
    "# STRING\n",
    "S = 'Data Science'\n",
    "\n",
    "# LIST\n",
    "l1 = ['DS', 1, 5.36, 1+3j]\n",
    "\n",
    "# FLOAT\n",
    "F = 21.69\n",
    "\n",
    "# TUPLE\n",
    "t = ('Pooja', 21, 1999)\n",
    "\n",
    "print(S)\n",
    "print(l1)\n",
    "print(F)\n",
    "t"
   ]
  },
  {
   "cell_type": "markdown",
   "id": "aa626365-81b2-43f7-a262-f0403abaf9c6",
   "metadata": {},
   "source": [
    "# Q2. Given are some following variables containing data:\n"
   ]
  },
  {
   "cell_type": "code",
   "execution_count": 14,
   "id": "937a9956-8f38-4866-893a-3edc5236bcef",
   "metadata": {},
   "outputs": [
    {
     "name": "stdout",
     "output_type": "stream",
     "text": [
      "<class 'str'>\n",
      "<class 'str'>\n",
      "<class 'list'>\n",
      "<class 'float'>\n"
     ]
    }
   ],
   "source": [
    "var1 = ' '\n",
    "var2 = '[ DS , ML , Python]'\n",
    "var3 = [ 'DS' , 'ML' , 'Python' ]\n",
    "var4 = 1.\n",
    "\n",
    "print(type(var1))\n",
    "print(type(var2))\n",
    "print(type(var3))\n",
    "print(type(var4))\n"
   ]
  },
  {
   "cell_type": "markdown",
   "id": "95a27ca4-95af-4d50-821e-d8ac72b95cd1",
   "metadata": {},
   "source": [
    "# Q3. Explain the use of the following operators using an example:\n",
    "(i) /\n",
    "(ii) %\n",
    "(iii) //\n",
    "(iv) **"
   ]
  },
  {
   "cell_type": "code",
   "execution_count": 15,
   "id": "ff8bc995-1cf4-48ed-bd45-8c0d061aaf83",
   "metadata": {},
   "outputs": [
    {
     "name": "stdout",
     "output_type": "stream",
     "text": [
      "1.3333333333333333\n",
      "0\n",
      "1\n",
      "64\n"
     ]
    }
   ],
   "source": [
    "a = 4/3     \n",
    "b = 45%5\n",
    "c = 4//3\n",
    "d = 4**3\n",
    "\n",
    "print(a)\n",
    "print(b)\n",
    "print(c)\n",
    "print(d)"
   ]
  },
  {
   "cell_type": "markdown",
   "id": "0f77d1f7-1dee-449f-928f-911a7109bd61",
   "metadata": {},
   "source": [
    "# Q4. Create a list of length 10 of your choice containing multiple types of data. Using for loop print the element and its data type."
   ]
  },
  {
   "cell_type": "code",
   "execution_count": 1,
   "id": "7de48dd1-cb8e-4636-88cc-4fcef4241959",
   "metadata": {},
   "outputs": [
    {
     "name": "stdout",
     "output_type": "stream",
     "text": [
      "Pooja\n",
      "TYPE -  <class 'str'>\n",
      "2\n",
      "TYPE -  <class 'int'>\n",
      "5.3698\n",
      "TYPE -  <class 'float'>\n",
      "s\n",
      "TYPE -  <class 'str'>\n",
      "('p', 'o', 'a')\n",
      "TYPE -  <class 'tuple'>\n",
      "['a', 'b']\n",
      "TYPE -  <class 'list'>\n",
      "(1+23j)\n",
      "TYPE -  <class 'complex'>\n",
      "True\n",
      "TYPE -  <class 'bool'>\n",
      "range(0, 15)\n",
      "TYPE -  <class 'range'>\n",
      "456\n",
      "TYPE -  <class 'int'>\n"
     ]
    }
   ],
   "source": [
    "l = ['Pooja',2,5.3698,'s', ('p','o','a'), ['a','b'], 1+23j,True,range(15),456]\n",
    "\n",
    "for i in l:\n",
    "    print(i)\n",
    "    print('TYPE - ',type(i))"
   ]
  },
  {
   "cell_type": "markdown",
   "id": "99147cce-74b6-4af3-a5a9-111082595e2b",
   "metadata": {},
   "source": [
    "# Q5. Using a while loop, verify if the number A is purely divisible by number B and if so then how many times it can be divisible."
   ]
  },
  {
   "cell_type": "code",
   "execution_count": 40,
   "id": "9607227f-9f87-480a-bbb8-d59433b3bd41",
   "metadata": {},
   "outputs": [
    {
     "name": "stdin",
     "output_type": "stream",
     "text": [
      "Enter number A:  7845\n",
      "Enter number B:  5\n"
     ]
    },
    {
     "name": "stdout",
     "output_type": "stream",
     "text": [
      "1569.0\n",
      "7845  can be divisible by  5 1  times\n"
     ]
    }
   ],
   "source": [
    "a = int(input(\"Enter number A: \"))\n",
    "b = int(input(\"Enter number B: \"))\n",
    "c=a\n",
    "d=b\n",
    "count = 0\n",
    "while a%b==0:\n",
    "        a = a/b\n",
    "        print(a)\n",
    "        count += 1\n",
    "\n",
    "if count > 0:\n",
    "        print(c,\" can be divisible by \", d , count, \" times\" )\n",
    "else:\n",
    "        print(c,\" is not divisible by \",d)\n",
    "    \n",
    "\n",
    "\n"
   ]
  },
  {
   "cell_type": "markdown",
   "id": "c6db758f-c874-4061-83c9-a0b6213fa770",
   "metadata": {},
   "source": [
    "# Q6. Create a list containing 25 int type data. Using for loop and if-else condition print if the element is divisible by 3 or not.\n"
   ]
  },
  {
   "cell_type": "code",
   "execution_count": 28,
   "id": "d03be845-0d0e-4f76-a0ae-4816ad5f2781",
   "metadata": {},
   "outputs": [
    {
     "name": "stdout",
     "output_type": "stream",
     "text": [
      "-1  is not divisible by 3\n",
      "1  is not divisible by 3\n",
      "3  is divisible by 3\n",
      "5  is not divisible by 3\n",
      "7  is not divisible by 3\n",
      "9  is divisible by 3\n",
      "11  is not divisible by 3\n",
      "13  is not divisible by 3\n",
      "15  is divisible by 3\n",
      "17  is not divisible by 3\n",
      "19  is not divisible by 3\n",
      "21  is divisible by 3\n",
      "23  is not divisible by 3\n",
      "25  is not divisible by 3\n",
      "27  is divisible by 3\n",
      "29  is not divisible by 3\n",
      "31  is not divisible by 3\n",
      "33  is divisible by 3\n",
      "35  is not divisible by 3\n",
      "37  is not divisible by 3\n",
      "39  is divisible by 3\n",
      "41  is not divisible by 3\n",
      "43  is not divisible by 3\n",
      "45  is divisible by 3\n",
      "47  is not divisible by 3\n"
     ]
    }
   ],
   "source": [
    "l = list(range(-1,49,2))\n",
    "\n",
    "for i in l:\n",
    "    if i % 3==0:\n",
    "        print(i, \" is divisible by 3\")\n",
    "    else:\n",
    "        print(i,\" is not divisible by 3\")"
   ]
  },
  {
   "cell_type": "markdown",
   "id": "dec1e909-16b4-4663-b409-dd97853335a9",
   "metadata": {},
   "source": [
    "# Q7. What do you understand about mutable and immutable data types? Give examples for both showing this property."
   ]
  },
  {
   "cell_type": "code",
   "execution_count": 7,
   "id": "f9a42b98-517e-4771-a419-8dab5d7f3446",
   "metadata": {},
   "outputs": [
    {
     "data": {
      "text/plain": [
       "[1, 'dog', 'cat', 45]"
      ]
     },
     "execution_count": 7,
     "metadata": {},
     "output_type": "execute_result"
    }
   ],
   "source": [
    "## MUTABLE DATA TYPE ###\n",
    "'''\n",
    "When we create variable of mutable data type then we can change its data or value at its index position even after initialization.\n",
    "'''\n",
    "\n",
    "l = [1,'dog', 'cat',45]\n",
    "l"
   ]
  },
  {
   "cell_type": "code",
   "execution_count": 8,
   "id": "cd8dce05-8097-484c-8004-b9f3d6f57813",
   "metadata": {},
   "outputs": [
    {
     "data": {
      "text/plain": [
       "[1, 'elephant', 'cat', 45]"
      ]
     },
     "execution_count": 8,
     "metadata": {},
     "output_type": "execute_result"
    }
   ],
   "source": [
    "l[1] = 'elephant'  # here we have change the data of index 1 in list and it also shows in output\n",
    "l"
   ]
  },
  {
   "cell_type": "code",
   "execution_count": 12,
   "id": "19310880-cea4-47ef-bcc4-721788581d2b",
   "metadata": {},
   "outputs": [
    {
     "data": {
      "text/plain": [
       "'dog'"
      ]
     },
     "execution_count": 12,
     "metadata": {},
     "output_type": "execute_result"
    }
   ],
   "source": [
    "## IMUTABLE ##\n",
    "'''\n",
    "When we cant change any data or value at particular position in variable of immutable datat type like string\n",
    "'''\n",
    "s=\"dog\"\n",
    "s"
   ]
  },
  {
   "cell_type": "code",
   "execution_count": 10,
   "id": "408350f1-0d04-429a-8d90-64385b826db6",
   "metadata": {},
   "outputs": [
    {
     "ename": "TypeError",
     "evalue": "'str' object does not support item assignment",
     "output_type": "error",
     "traceback": [
      "\u001b[0;31m---------------------------------------------------------------------------\u001b[0m",
      "\u001b[0;31mTypeError\u001b[0m                                 Traceback (most recent call last)",
      "Cell \u001b[0;32mIn[10], line 1\u001b[0m\n\u001b[0;32m----> 1\u001b[0m \u001b[43ms\u001b[49m\u001b[43m[\u001b[49m\u001b[38;5;241;43m1\u001b[39;49m\u001b[43m]\u001b[49m\u001b[38;5;241m=\u001b[39m\u001b[38;5;124m'\u001b[39m\u001b[38;5;124me\u001b[39m\u001b[38;5;124m'\u001b[39m\n",
      "\u001b[0;31mTypeError\u001b[0m: 'str' object does not support item assignment"
     ]
    }
   ],
   "source": [
    "s[1]='e' # gives error"
   ]
  },
  {
   "cell_type": "code",
   "execution_count": null,
   "id": "c96344d7-e3c0-467c-8abf-3abd2da83cb0",
   "metadata": {},
   "outputs": [],
   "source": []
  }
 ],
 "metadata": {
  "kernelspec": {
   "display_name": "Python 3 (ipykernel)",
   "language": "python",
   "name": "python3"
  },
  "language_info": {
   "codemirror_mode": {
    "name": "ipython",
    "version": 3
   },
   "file_extension": ".py",
   "mimetype": "text/x-python",
   "name": "python",
   "nbconvert_exporter": "python",
   "pygments_lexer": "ipython3",
   "version": "3.10.8"
  }
 },
 "nbformat": 4,
 "nbformat_minor": 5
}
