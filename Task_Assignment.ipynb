{
 "cells": [
  {
   "cell_type": "markdown",
   "id": "a5d392a4-7efc-4aa3-a70c-6bead189add3",
   "metadata": {},
   "source": [
    "# Q1 Create a vehicle class with an init method having instance variables as name_of_vehicle, max_speed and average_of_vehicle."
   ]
  },
  {
   "cell_type": "code",
   "execution_count": 4,
   "id": "55f22131-6623-4f01-8e6e-f665702d316b",
   "metadata": {},
   "outputs": [
    {
     "name": "stdout",
     "output_type": "stream",
     "text": [
      "Name of Vehicle: Audi A4\n",
      "Max Speed: 241\n",
      "Average of vehicle: 17.4 kmpl\n"
     ]
    }
   ],
   "source": [
    "class vehicle:\n",
    "    def __init__(self,name_of_vehicle, max_speed,average_of_vehicle):\n",
    "        self.name_of_vehicle = name_of_vehicle\n",
    "        self.max_speed = max_speed\n",
    "        self.average_of_vehicle = average_of_vehicle\n",
    "        \n",
    "    def show(self):\n",
    "        print(\"Name of Vehicle:\",self.name_of_vehicle)\n",
    "        print(\"Max Speed:\", self.max_speed)\n",
    "        print(\"Average of vehicle:\",self.average_of_vehicle)\n",
    "        \n",
    "obj = vehicle('Audi A4',241, '17.4 kmpl')\n",
    "obj.show()\n",
    "        "
   ]
  },
  {
   "cell_type": "markdown",
   "id": "11f1bc51-51ee-4d4a-81e4-dffded293ab2",
   "metadata": {},
   "source": [
    "# Q2. Create a child class car from the vehicle class created in Que 1, which will inherit the vehicle class.Create a method named seating_capacity which takes capacity as an argument and returns the name of the vehicle and its seating capacity."
   ]
  },
  {
   "cell_type": "code",
   "execution_count": 3,
   "id": "30b325d6-c8e1-4d11-a749-5719bfe518cf",
   "metadata": {},
   "outputs": [
    {
     "data": {
      "text/plain": [
       "('Audi A4', 4)"
      ]
     },
     "execution_count": 3,
     "metadata": {},
     "output_type": "execute_result"
    }
   ],
   "source": [
    "class vehicle:\n",
    "    def __init__(self,name_of_vehicle, max_speed,average_of_vehicle):\n",
    "        self.name_of_vehicle = name_of_vehicle\n",
    "        self.max_speed = max_speed\n",
    "        self.average_of_vehicle = average_of_vehicle\n",
    "        \n",
    "    def show(self):\n",
    "        print(\"Name of Vehicle:\",self.name_of_vehicle)\n",
    "        print(\"Max Speed:\", self.max_speed)\n",
    "        print(\"Average of vehicle:\",self.average_of_vehicle)\n",
    "        \n",
    "class car(vehicle):\n",
    "    def seating_capacity(self,c):\n",
    "        return self.name_of_vehicle  , c\n",
    "    \n",
    "obj = car('Audi A4',241, '17.4 kmpl')\n",
    "obj.seating_capacity(4)"
   ]
  },
  {
   "cell_type": "markdown",
   "id": "e2c725ba-79e0-4d92-8ee1-1ad20a8557db",
   "metadata": {},
   "source": [
    "# Q3. What is multiple inheritance? Write a python code to demonstrate multiple inheritance.\n",
    "* When a class can derived from one or more parent class"
   ]
  },
  {
   "cell_type": "code",
   "execution_count": 4,
   "id": "dd5a4a27-ab12-42ab-883f-60260611d073",
   "metadata": {},
   "outputs": [
    {
     "name": "stdout",
     "output_type": "stream",
     "text": [
      "Parent class P1\n",
      "Parent class P2\n",
      "Child class C1\n"
     ]
    }
   ],
   "source": [
    "class P1:\n",
    "    def fun1(self):\n",
    "        print('Parent class P1')\n",
    "        \n",
    "class P2:\n",
    "    def fun2(self):\n",
    "        print('Parent class P2')\n",
    "        \n",
    "class C1(P1,P2):\n",
    "    def fun3(self):\n",
    "        print('Child class C1')\n",
    "        \n",
    "c1 = C1()\n",
    "c1.fun1()\n",
    "c1.fun2()\n",
    "c1.fun3()"
   ]
  },
  {
   "cell_type": "markdown",
   "id": "78f940c1-5180-450a-8ae8-4b3165f6476a",
   "metadata": {},
   "source": [
    "# Q4. What are getter and setter in python? Create a class and create a getter and a setter method in this class.\n",
    "\n",
    "Both method basically used to use private variable outside the class\n",
    "#### <span style = 'color:orange'> <b> GETTER: </b></span> It is used to access the attribute of given class\n",
    "#### <span style = 'color:orange'> <b> SETTER: </b></span> It is used to set or modify the attribute of given class"
   ]
  },
  {
   "cell_type": "code",
   "execution_count": 4,
   "id": "2ef4eb00-8693-437e-9a15-db0a1b6ee1ad",
   "metadata": {},
   "outputs": [
    {
     "name": "stdout",
     "output_type": "stream",
     "text": [
      "Getting Name\n",
      "Setting name as:  Superman\n"
     ]
    }
   ],
   "source": [
    "class c1:\n",
    "    \n",
    "    def __init__(self,name,age):\n",
    "        self.__name = name\n",
    "        self.__age = age\n",
    "        \n",
    "    def get_name(self):\n",
    "        print(\"Getting Name\")\n",
    "        return self.__name\n",
    "    \n",
    "    def set_name(self,value):\n",
    "        print('Setting name as: ', value)\n",
    "        self.__name = value\n",
    "    \n",
    "o = c1('Shaktiman',30)\n",
    "o.get_name()\n",
    "o.set_name('Superman')"
   ]
  },
  {
   "cell_type": "markdown",
   "id": "bc88aba9-4a95-40c1-8b42-ee5bee5211b5",
   "metadata": {},
   "source": [
    "# Q5.What is method overriding in python? Write a python code to demonstrate method overriding.\n",
    "\n",
    "### RUNTIME POLYMORPHISM \n",
    "#### Method Overriding:\n",
    "* Same name functions in different class with same arguments\n",
    "* Inheritance compulsory"
   ]
  },
  {
   "cell_type": "code",
   "execution_count": 6,
   "id": "18ad6d44-0816-494f-903f-dbacc715912c",
   "metadata": {},
   "outputs": [
    {
     "name": "stdout",
     "output_type": "stream",
     "text": [
      "MOR2 2 10\n",
      "MOR1 2 10\n"
     ]
    }
   ],
   "source": [
    "class MOR:\n",
    "    def fun2(self,a,b):\n",
    "        print('MOR:', a,b)\n",
    "        \n",
    "class MOR1(MOR):\n",
    "    def fun2(self,a,b):\n",
    "        print('MOR1',a,b)\n",
    "        \n",
    "class MOR2(MOR1):\n",
    "    \n",
    "    def fun2(self,a,b):\n",
    "        print('MOR2',a,b)\n",
    "        super().fun2(2,10)\n",
    "        \n",
    "obj = MOR2()\n",
    "obj.fun2(2,10)  "
   ]
  },
  {
   "cell_type": "code",
   "execution_count": null,
   "id": "44db653c-e645-4081-bc15-7109ba8e5bba",
   "metadata": {},
   "outputs": [],
   "source": []
  }
 ],
 "metadata": {
  "kernelspec": {
   "display_name": "Python 3 (ipykernel)",
   "language": "python",
   "name": "python3"
  },
  "language_info": {
   "codemirror_mode": {
    "name": "ipython",
    "version": 3
   },
   "file_extension": ".py",
   "mimetype": "text/x-python",
   "name": "python",
   "nbconvert_exporter": "python",
   "pygments_lexer": "ipython3",
   "version": "3.10.8"
  }
 },
 "nbformat": 4,
 "nbformat_minor": 5
}
