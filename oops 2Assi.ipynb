{
 "cells": [
  {
   "cell_type": "markdown",
   "id": "9891f3a5-feb5-4e0b-a254-fdb353ff6e0f",
   "metadata": {},
   "source": [
    "# Q1. What is Abstraction in OOps? Explain with an example.\n",
    "* It hides unnecessary code details from the user. Also,  when we do not want to give out sensitive parts of our code implementation and this is where data abstraction came.\n",
    "* Data Abstraction in Python can be achieved by creating abstract classes."
   ]
  },
  {
   "cell_type": "code",
   "execution_count": 1,
   "id": "26d1c8f4-374c-4dcf-a6ff-efb7c355557c",
   "metadata": {},
   "outputs": [
    {
     "name": "stdout",
     "output_type": "stream",
     "text": [
      "dog - bark\n",
      "cat - meow\n"
     ]
    }
   ],
   "source": [
    "class Animal:\n",
    "    def sound(self,a):\n",
    "        pass\n",
    "    \n",
    "class Dog(Animal):\n",
    "    def sound(self,a):\n",
    "        print(a,\"- bark\")\n",
    "\n",
    "class Cat(Animal):\n",
    "    def sound(self,a):\n",
    "        print(a,\"- meow\")\n",
    "        \n",
    "c1 = Dog()\n",
    "c2 = Cat()\n",
    "c1.sound('dog')\n",
    "c2.sound('cat')"
   ]
  },
  {
   "cell_type": "markdown",
   "id": "d166b145-e7c2-4126-b4e1-eef4016fa70e",
   "metadata": {},
   "source": [
    "# Q2. Differentiate between Abstraction and Encapsulation. Explain with an example.\n",
    "\n",
    "#### ABSTRACTION :  \n",
    "* It is used to hide information\n",
    "* It is achieved by using abstract class\n",
    "\n",
    "#### ENCAPSULATION\n",
    "* It is used to wrap a single entity to protect it from accidentally change\n",
    "* It is achieved by private and protected variable"
   ]
  },
  {
   "cell_type": "code",
   "execution_count": 10,
   "id": "5d25eaf5-cd92-4679-9cb1-c51a29566e4b",
   "metadata": {},
   "outputs": [
    {
     "name": "stdout",
     "output_type": "stream",
     "text": [
      "Student 1 : Krishank\n",
      "Student 2 : Vihan\n"
     ]
    }
   ],
   "source": [
    "# ABSTRACTION\n",
    "\n",
    "#ABSTRACT CLASS\n",
    "class student:\n",
    "    def stud_name(self,name):\n",
    "        pass\n",
    "\n",
    "class stud1(student):\n",
    "    def stud_name(self,name):  # ABSTRACT METHOD USED\n",
    "        self.name=name\n",
    "        print('Student 1 :',self.name) \n",
    "\n",
    "class stud2(student):\n",
    "    def stud_name(self,name):   # ABSTRACT METHOD USED\n",
    "        self.name = name\n",
    "        print(\"Student 2 :\", self.name)\n",
    "        \n",
    "o1 = stud1()\n",
    "o2 = stud2()\n",
    "o1.stud_name(\"Krishank\")\n",
    "o2.stud_name(\"Vihan\")"
   ]
  },
  {
   "cell_type": "code",
   "execution_count": 7,
   "id": "caa90b36-f42e-402b-a6e7-e496634c0cb5",
   "metadata": {},
   "outputs": [
    {
     "ename": "AttributeError",
     "evalue": "'c1' object has no attribute 'name'",
     "output_type": "error",
     "traceback": [
      "\u001b[0;31m---------------------------------------------------------------------------\u001b[0m",
      "\u001b[0;31mAttributeError\u001b[0m                            Traceback (most recent call last)",
      "Cell \u001b[0;32mIn[7], line 8\u001b[0m\n\u001b[1;32m      5\u001b[0m         \u001b[38;5;28mself\u001b[39m\u001b[38;5;241m.\u001b[39m__name \u001b[38;5;241m=\u001b[39m name\n\u001b[1;32m      7\u001b[0m c \u001b[38;5;241m=\u001b[39m c1(\u001b[38;5;124m\"\u001b[39m\u001b[38;5;124mPooja\u001b[39m\u001b[38;5;124m\"\u001b[39m)\n\u001b[0;32m----> 8\u001b[0m \u001b[43mc\u001b[49m\u001b[38;5;241;43m.\u001b[39;49m\u001b[43mname\u001b[49m           \u001b[38;5;66;03m# it will give error as we have private the variable name to protect it from being modify or access\u001b[39;00m\n",
      "\u001b[0;31mAttributeError\u001b[0m: 'c1' object has no attribute 'name'"
     ]
    }
   ],
   "source": [
    "# Encapsulation\n",
    "\n",
    "class c1:\n",
    "    def __init__ (self,name):\n",
    "        self.__name = name\n",
    "        \n",
    "c = c1(\"Pooja\")\n",
    "c.name           # it will give error as we have private the variable name to protect it from being modify or access"
   ]
  },
  {
   "cell_type": "markdown",
   "id": "5c32a025-6353-488a-a1ec-2cc45a722025",
   "metadata": {},
   "source": [
    "# Q3. What is abc module in python? Why is it used?\n",
    "#### Python has a module called abc (abstract base class) that offers the necessary tools for crafting an abstract base class.\n",
    "* The main goal of the abstract base class is to provide a standardized way to test whether an object adheres to a given specification.\n",
    "* It can also prevent any attempt to instantiate a subclass that doesn’t override a particular method in the superclass.\n",
    "* And finally, using an abstract class, a class can derive identity from another class without any object inheritance.\n",
    "*  The rule is every abstract class must use ABCMeta metaclass.\n",
    "* ABCMeta metaclass provides a method called register method that can be invoked by its instance.\n",
    "* By using this register method, any abstract base class can become an ancestor of any arbitrary concrete class."
   ]
  },
  {
   "cell_type": "markdown",
   "id": "2a7c2cf2-11e5-4637-8eb3-ef3f5ff75154",
   "metadata": {},
   "source": [
    "# Q4. How can we achieve data abstraction?\n",
    "\n",
    "* Creating abstract class and inheriting them later. \n",
    "* An abstract class just serves as a template for other classes by defining a list of methods that the classes must implement. To use such a class, we must derive them keeping in mind that we would either be using or overriding the features specified in that class."
   ]
  },
  {
   "cell_type": "code",
   "execution_count": null,
   "id": "4e6e2f2b-e7e4-45f2-9dc8-c776b04928b5",
   "metadata": {},
   "outputs": [],
   "source": [
    "# Q5. Can we create an instance of an abstract class? Explain your answer."
   ]
  }
 ],
 "metadata": {
  "kernelspec": {
   "display_name": "Python 3 (ipykernel)",
   "language": "python",
   "name": "python3"
  },
  "language_info": {
   "codemirror_mode": {
    "name": "ipython",
    "version": 3
   },
   "file_extension": ".py",
   "mimetype": "text/x-python",
   "name": "python",
   "nbconvert_exporter": "python",
   "pygments_lexer": "ipython3",
   "version": "3.10.8"
  }
 },
 "nbformat": 4,
 "nbformat_minor": 5
}
