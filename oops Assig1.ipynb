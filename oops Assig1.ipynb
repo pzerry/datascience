{
 "cells": [
  {
   "cell_type": "markdown",
   "id": "72bc4e95-792e-4298-9cb4-73bb10abfe00",
   "metadata": {},
   "source": [
    "# Q1. Explain Class and Object with respect to Object-Oriented Programming. Give a suitable example."
   ]
  },
  {
   "cell_type": "markdown",
   "id": "86aa4cfd-4e1d-42b9-9f4f-827811954a84",
   "metadata": {},
   "source": [
    "### <span style='color:orange'> <b> Object: </b> </span>\n",
    "Object is real world entity\n",
    "Ex : email,man,car,bottle,...\n",
    "Every Object has property:\n",
    "1) Attribute\n",
    "2) Behaviour\n",
    "\n",
    "### <span style='color:orange'> <b> Class: </b> </span>\n",
    " Class is prototype/blueprint/template/plan for creating object\n"
   ]
  },
  {
   "cell_type": "code",
   "execution_count": 2,
   "id": "f4e8e0c7-5cc1-418b-bef9-b13a0107c012",
   "metadata": {},
   "outputs": [
    {
     "name": "stdout",
     "output_type": "stream",
     "text": [
      "class1\n"
     ]
    }
   ],
   "source": [
    "class class_name:\n",
    "    print(\"class1\")\n",
    "    x=5\n",
    "\n",
    "c1 = class_name()"
   ]
  },
  {
   "cell_type": "markdown",
   "id": "ce5f6fde-3493-4757-bc26-dad8f67b3c86",
   "metadata": {},
   "source": [
    "# Q2. Name the four pillars of OOPs.\n",
    "\n",
    "* Inheritance  \n",
    "* Polymorphism  \n",
    "* Abstraction   \n",
    "* Encapsulation "
   ]
  },
  {
   "cell_type": "markdown",
   "id": "5e271cc7-45ed-4ec0-8efc-023b9b3aafee",
   "metadata": {},
   "source": [
    "# Q3. Explain why the __init__() function is used. Give a suitable example.\n",
    "\n",
    "In class we create a constructor to declare or initializa data member hence, using the init() method we can implement constructor to initialize the object"
   ]
  },
  {
   "cell_type": "code",
   "execution_count": 3,
   "id": "4de30088-3128-41bf-af61-e186599d112c",
   "metadata": {},
   "outputs": [
    {
     "name": "stdout",
     "output_type": "stream",
     "text": [
      "Hello __init__ method\n"
     ]
    }
   ],
   "source": [
    "class class1:\n",
    "    \n",
    "    #constructor\n",
    "    def __init__(self):\n",
    "        print('Hello __init__ method')\n",
    "        \n",
    "obj = class1()"
   ]
  },
  {
   "cell_type": "markdown",
   "id": "3f6a08f2-d1bb-4b01-9b85-802bf2ab8c6b",
   "metadata": {},
   "source": [
    "# Q4. Why self is used in OOPs?\n",
    "* It represents instance of class\n",
    "* It is used to point current objectthrough which we can use attribute or method of class\n",
    "* Each method have their own self "
   ]
  },
  {
   "cell_type": "markdown",
   "id": "d603bb48-0872-45e8-b894-c602caf15efa",
   "metadata": {},
   "source": [
    "# Q5. What is inheritance? Give an example for each type of inheritance.\n",
    "\n",
    "* Inheritance is the capability of one class to derive or inherit the properties from another class. \n",
    "* The class that derives properties is called the derived class or child class and the class from which the properties are being derived is called the base class or parent class.\n"
   ]
  },
  {
   "cell_type": "markdown",
   "id": "46572b92-e55f-4ccf-b4cc-eed31ff3aa26",
   "metadata": {},
   "source": [
    "#### <span style='color:orange'> <b> SINGLE INHERITANCE</b></span>"
   ]
  },
  {
   "cell_type": "code",
   "execution_count": 4,
   "id": "51c9a460-e713-47ba-8df3-b4df4be1a87a",
   "metadata": {},
   "outputs": [
    {
     "name": "stdout",
     "output_type": "stream",
     "text": [
      "Parent class P1\n",
      "Child class c1\n"
     ]
    }
   ],
   "source": [
    "class P1:\n",
    "    def fun1(self):\n",
    "        print('Parent class P1')\n",
    "        \n",
    "class C1(P1):\n",
    "    def fun2(self):\n",
    "        print('Child class c1')\n",
    "        \n",
    "c1 = C1()\n",
    "c1.fun1()   # Access parent class method\n",
    "c1.fun2()"
   ]
  },
  {
   "cell_type": "markdown",
   "id": "8b79e2a3-f700-438a-9978-701f86e7212f",
   "metadata": {},
   "source": [
    "#### <span style='color:orange'><b> MULTILEVEL INHERITANCE </b></span> "
   ]
  },
  {
   "cell_type": "code",
   "execution_count": 5,
   "id": "1156fbd4-56b7-4d51-9e49-1ca1eb954aa5",
   "metadata": {},
   "outputs": [
    {
     "name": "stdout",
     "output_type": "stream",
     "text": [
      "Parent Class P1\n",
      "Parent sub class Sub_P1\n",
      "Child class C1\n"
     ]
    }
   ],
   "source": [
    "class P1:\n",
    "    def fun1(self):\n",
    "        print(\"Parent Class P1\")\n",
    "\n",
    "class Sub_P1(P1):\n",
    "    def fun2(self):\n",
    "        print(\"Parent sub class Sub_P1\")\n",
    "        \n",
    "class C1(Sub_P1):\n",
    "    def fun3(self):\n",
    "        print(\"Child class C1\")\n",
    "        \n",
    "c1  = C1()\n",
    "c1.fun1()\n",
    "c1.fun2()\n",
    "c1.fun3()"
   ]
  },
  {
   "cell_type": "markdown",
   "id": "e8030b07-0731-4b3f-b2de-c1843a84ef6d",
   "metadata": {},
   "source": [
    "#### <span style='color:orange'> <b> MULTIPLE INHERITANCE </b></span>"
   ]
  },
  {
   "cell_type": "code",
   "execution_count": 6,
   "id": "37a6aca7-47c4-4678-bb4f-e3ddc2e2af8b",
   "metadata": {},
   "outputs": [
    {
     "name": "stdout",
     "output_type": "stream",
     "text": [
      "Parent class P1\n",
      "Parent class P2\n",
      "Child class C1\n"
     ]
    }
   ],
   "source": [
    "class P1:\n",
    "    def fun1(self):\n",
    "        print('Parent class P1')\n",
    "        \n",
    "class P2:\n",
    "    def fun2(self):\n",
    "        print('Parent class P2')\n",
    "        \n",
    "class C1(P1,P2):\n",
    "    def fun3(self):\n",
    "        print('Child class C1')\n",
    "        \n",
    "c1 = C1()\n",
    "c1.fun1()\n",
    "c1.fun2()\n",
    "c1.fun3()"
   ]
  },
  {
   "cell_type": "markdown",
   "id": "bba835cb-4218-4d50-9350-0b4fff9068bb",
   "metadata": {},
   "source": [
    "#### <span style='color:orange'><b> HIERARCHICAL INHERITANCE </b></span>"
   ]
  },
  {
   "cell_type": "code",
   "execution_count": 7,
   "id": "3859d999-2765-414b-a11b-c0a28532584b",
   "metadata": {},
   "outputs": [
    {
     "name": "stdout",
     "output_type": "stream",
     "text": [
      "Parent Class P1\n",
      "Parent Class P1\n"
     ]
    }
   ],
   "source": [
    "class P1:\n",
    "    def fun1(self):\n",
    "        print('Parent Class P1')\n",
    "        \n",
    "class C1(P1):\n",
    "    def fun2(self):\n",
    "        print('Elder child class')\n",
    "        \n",
    "class C2(P1):\n",
    "    def fun3(self):\n",
    "        print('Younger child class')\n",
    "        \n",
    "c1 = C1()\n",
    "c2=C2()\n",
    "\n",
    "c1.fun1()\n",
    "c2.fun1()\n"
   ]
  },
  {
   "cell_type": "markdown",
   "id": "bd55669f-b5d8-4831-8f2f-2cfe8a0f8259",
   "metadata": {},
   "source": [
    "#### <span style='color:orange'> <b> HYBRID INHERITANCE </b> </span>"
   ]
  },
  {
   "cell_type": "code",
   "execution_count": 8,
   "id": "f55ddeea-e5d0-4089-81cb-cd0325de537b",
   "metadata": {},
   "outputs": [
    {
     "name": "stdout",
     "output_type": "stream",
     "text": [
      "Parent class\n",
      "first sub parent\n",
      "second sub parent\n",
      "Child Class\n"
     ]
    }
   ],
   "source": [
    "class P1:\n",
    "    def f1(self):\n",
    "        print('Parent class')\n",
    "        \n",
    "class S_P1(P1):\n",
    "    def f2(self):\n",
    "        print('first sub parent')\n",
    "        \n",
    "class S_P2(P1):\n",
    "    def f3(self):\n",
    "        print('second sub parent')\n",
    "        \n",
    "class C1(S_P1,S_P2):\n",
    "    def f4(self):\n",
    "        print('Child Class')\n",
    "        \n",
    "c1 = C1()\n",
    "c1.f1()\n",
    "c1.f2()\n",
    "c1.f3()\n",
    "c1.f4()"
   ]
  },
  {
   "cell_type": "markdown",
   "id": "780e039a-b53d-4519-8f47-02e63b490050",
   "metadata": {},
   "source": []
  }
 ],
 "metadata": {
  "kernelspec": {
   "display_name": "Python 3 (ipykernel)",
   "language": "python",
   "name": "python3"
  },
  "language_info": {
   "codemirror_mode": {
    "name": "ipython",
    "version": 3
   },
   "file_extension": ".py",
   "mimetype": "text/x-python",
   "name": "python",
   "nbconvert_exporter": "python",
   "pygments_lexer": "ipython3",
   "version": "3.10.8"
  }
 },
 "nbformat": 4,
 "nbformat_minor": 5
}
